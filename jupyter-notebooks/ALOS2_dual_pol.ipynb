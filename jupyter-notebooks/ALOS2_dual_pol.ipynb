{
 "cells": [
  {
   "cell_type": "markdown",
   "id": "d0cf009b-3321-4c13-9334-dcfb68a6c2db",
   "metadata": {},
   "source": [
    "\n",
    "## How to Use the Notebooks\n",
    "\n",
    "To run these notebooks, follow these steps:\n",
    "\n",
    "\n",
    "### 1. Install **`gdal`** Package\n",
    "Installing `gdal` via `pip` may fail. Therefore, we recommend using conda to install it:\n",
    "```bash\n",
    "conda install gdal -c conda-forge\n",
    "```\n",
    "\n",
    "### 2. Install **`polsartools`** Package\n",
    "\n",
    "Before running the notebooks, you'll need to install the core **`polsartools`** package. \n",
    "\n",
    "**Option A:** Install from PyPI `pip` (stable release)\n",
    "\n",
    "```bash\n",
    "pip install polsartools\n",
    "```\n",
    "\n",
    "**Option B:** Install from conda (stable release)\n",
    "\n",
    "```bash\n",
    "conda install polsartools -c bnarayanarao\n",
    "```\n",
    "\n",
    "\n",
    "**Option C:**  Install the latest version from GitHub (if you need recent updates or fixes)\n",
    "\n",
    "```bash\n",
    "pip install git+https://github.com/Narayana-Rao/polsartools.git#egg=polsartools\n",
    "```\n",
    "> **Note:** If you encounter a `\"module not found\"` error or require newer features, prefer the GitHub installation (Option C).\n",
    "\n",
    "### 3. Verify the Installation\n",
    "\n",
    "After successfully installing `polsartools`, you can verify it by importing the package:\n",
    "\n",
    "```bash\n",
    "import polsartools as pst\n",
    "```\n",
    "\n",
    "If this runs without errors, you're ready to explore and run the notebooks.\n",
    "\n",
    "\n"
   ]
  },
  {
   "cell_type": "code",
   "execution_count": null,
   "id": "913082ad-ff93-4b35-91a2-3bb151ef41d6",
   "metadata": {},
   "outputs": [],
   "source": [
    "\"\"\" \n",
    "\n",
    "import required packages\n",
    "\n",
    "\"\"\"\n",
    "import os\n",
    "import matplotlib.pyplot as plt\n",
    "import numpy as np\n",
    "import polsartools as pst\n",
    "    "
   ]
  },
  {
   "cell_type": "code",
   "execution_count": null,
   "id": "4a1f9d78-4a37-42ba-b8b4-6c516755c942",
   "metadata": {},
   "outputs": [],
   "source": [
    "\"\"\" \n",
    "\n",
    "Function to display images\n",
    "\n",
    "\"\"\"\n",
    "\n",
    "def plot_images(*filenames, lower_percentile=2, upper_percentile=98, max_cols=4):\n",
    "    def compute_vmin_vmax(data):\n",
    "        data_no_nan = data[np.isfinite(data)]\n",
    "        vmin = np.percentile(data_no_nan, lower_percentile)\n",
    "        vmax = np.percentile(data_no_nan, upper_percentile)\n",
    "        return vmin, vmax\n",
    "\n",
    "    num_images = len(filenames)\n",
    "\n",
    "    if num_images == 1:\n",
    "        # Single image case\n",
    "        data = pst.read_rst(filenames[0])\n",
    "        data[data==0]=np.nan\n",
    "        vmin, vmax = compute_vmin_vmax(data)\n",
    "\n",
    "        fig, ax = plt.subplots(figsize=(6, 6))\n",
    "        im = ax.imshow(data, vmin=vmin, vmax=vmax)\n",
    "        ax.set_title(os.path.basename(filenames[0]))\n",
    "        fig.colorbar(im, ax=ax)\n",
    "        plt.tight_layout()\n",
    "        plt.show()\n",
    "    else:\n",
    "        # Multiple image case\n",
    "        ncols = min(max_cols, num_images)\n",
    "        nrows = int(np.ceil(num_images / ncols))\n",
    "\n",
    "        fig, axes = plt.subplots(nrows, ncols, figsize=(5 * ncols, 5 * nrows))\n",
    "        axes = np.array(axes).reshape(-1)  # Flatten in case it's a 2D grid\n",
    "\n",
    "        for i, filename in enumerate(filenames):\n",
    "            data = pst.read_rst(filename)\n",
    "            data[data==0]=np.nan\n",
    "            vmin, vmax = compute_vmin_vmax(data)\n",
    "            ax = axes[i]\n",
    "            im = ax.imshow(data, vmin=vmin, vmax=vmax)\n",
    "            ax.set_title(os.path.basename(filename))\n",
    "            fig.colorbar(im, ax=ax)\n",
    "\n",
    "        for j in range(num_images, len(axes)):\n",
    "            axes[j].axis('off')\n",
    "\n",
    "        plt.tight_layout()\n",
    "        plt.show()\n"
   ]
  },
  {
   "cell_type": "markdown",
   "id": "0d7e9ae9-9656-482b-954b-8ed3cae7a8dd",
   "metadata": {},
   "source": [
    "#### 1. Extract multilooked C2 matrix from ALOS-2 FBD data\n",
    "##### using **`polsartools.alos2_fbd_l11`** function, [click here for documentation](https://polsartools.readthedocs.io/en/latest/files/sensors/alos2.html#fbd-l1-1-alos2-fbd-l11c) or run `print(polsartools.alos2_fbd_l11.__.doc__)`\n"
   ]
  },
  {
   "cell_type": "code",
   "execution_count": null,
   "id": "054ff216-5715-4b7c-ac19-5d6253b62e2a",
   "metadata": {},
   "outputs": [],
   "source": [
    "inFolder =r\"ALOS2_DP/ALOS2214806690-180515\"\n",
    "\n",
    "\n",
    "# The following function extracts a multilooked C2 matrix from ALOS-2 FBD data. \n",
    "# Provide path to the extracted folder\n",
    "\n",
    "pst.alos2_fbd_l11(inFolder,azlks=8,rglks=4)"
   ]
  },
  {
   "cell_type": "markdown",
   "id": "e6abe4f4-e4a5-4c74-82f0-5188fce8e511",
   "metadata": {},
   "source": [
    "#### 2. Speckle filtering using polarimetric refined-Lee filter"
   ]
  },
  {
   "cell_type": "code",
   "execution_count": null,
   "id": "e1923bd5-9946-4f70-a376-3f0bd76cc94d",
   "metadata": {},
   "outputs": [],
   "source": [
    "c2Folder = os.path.join(r'ALOS2_DP/ALOS2214806690-180515/ALOS2214806690-180515-FBDR','C2')\n",
    "window_size = 3\n",
    "pst.rlee(c2Folder,window_size=window_size)"
   ]
  },
  {
   "cell_type": "markdown",
   "id": "750d8786-77d8-4d16-bcbe-bd2e765c8ddc",
   "metadata": {},
   "source": [
    "#### 3. Generate a quick look RGB from C2 matrix"
   ]
  },
  {
   "cell_type": "code",
   "execution_count": null,
   "id": "5d17f10b-4598-473c-a4ca-b4ccd56e3e38",
   "metadata": {},
   "outputs": [],
   "source": [
    "\n",
    "c2Folder = os.path.join(r'ALOS2_DP/ALOS2214806690-180515/ALOS2214806690-180515-FBDR','rlee_3x3','C2')\n",
    "# pst.dxpRGB(c2Folder,type=1)\n",
    "# pst.dxpRGB(c2Folder,type=2)\n",
    "# pst.dxpRGB(c2Folder,type=3)\n",
    "pst.dxpRGB(c2Folder,type=4)"
   ]
  },
  {
   "cell_type": "markdown",
   "id": "94eb14dc-2302-4f74-956a-bfc8410721ca",
   "metadata": {},
   "source": [
    "#### 4. Generating some polarimetric parameters from C2 matrix"
   ]
  },
  {
   "cell_type": "markdown",
   "id": "d50fa0cf-630d-4eb2-9dae-d097a16cf53c",
   "metadata": {},
   "source": [
    "##### 4.1 Barakat Degree of polarization \n",
    "##### using `polsartools.dopdp` function, [click here for documentation](https://polsartools.readthedocs.io/en/latest/files/functions/dual_pol/DOP_dp.html) or run `print(polsartools.dopdp.__.doc__)`\n"
   ]
  },
  {
   "cell_type": "code",
   "execution_count": null,
   "id": "2a6f82cd-4552-46c7-ad51-a5e556b6876d",
   "metadata": {},
   "outputs": [],
   "source": [
    "\n",
    "pst.dopdp(c2Folder)\n"
   ]
  },
  {
   "cell_type": "markdown",
   "id": "507bb053-3a07-40e9-898d-022d73e8afce",
   "metadata": {},
   "source": [
    "##### Preview the output"
   ]
  },
  {
   "cell_type": "code",
   "execution_count": null,
   "id": "1cb88e77-a424-4fde-aec0-9724e259ee43",
   "metadata": {},
   "outputs": [],
   "source": [
    "plot_images(c2Folder+'/dopdp.tif', lower_percentile=2, upper_percentile=98, max_cols=4)\n",
    "\n"
   ]
  },
  {
   "cell_type": "markdown",
   "id": "152b2a81-6d45-41c7-8484-325b89a420c1",
   "metadata": {},
   "source": [
    "##### 4.2. Entropy-Alpha (H/α) parameters \n",
    "##### using **`polsartools.halphadp`** function, [click here for documentation](https://polsartools.readthedocs.io/en/latest/files/functions/dual_pol/halphadxp.html) or run `print(polsartools.halphadp.__.doc__)`\n"
   ]
  },
  {
   "cell_type": "code",
   "execution_count": null,
   "id": "6529bcf4-7571-45f3-a078-f65382cb6157",
   "metadata": {},
   "outputs": [],
   "source": [
    "pst.halphadp(c2Folder)\n"
   ]
  },
  {
   "cell_type": "markdown",
   "id": "9e30c337-b2bf-4787-8c57-f467ba11c7eb",
   "metadata": {},
   "source": [
    "##### Preview the output"
   ]
  },
  {
   "cell_type": "code",
   "execution_count": null,
   "id": "aacda589-1808-4b48-ac39-37cf2850366d",
   "metadata": {},
   "outputs": [],
   "source": [
    "\n",
    "plot_images(c2Folder + '/Hdp.tif',\n",
    "            c2Folder + '/alphadp.tif', \n",
    "            c2Folder + '/e1_norm.tif', \n",
    "            c2Folder + '/e2_norm.tif', \n",
    "            lower_percentile=2, upper_percentile=98, max_cols=4)\n"
   ]
  },
  {
   "cell_type": "markdown",
   "id": "68347c5e-7917-40eb-944f-f7d72fabbc98",
   "metadata": {},
   "source": [
    "##### Plot Entropy-Alpha plot for dual-pol\n",
    "##### using **`polsartools.halpha_plot_dp`** function, [click here for documentation](https://polsartools.readthedocs.io/en/latest/files/functions/dual_pol/halpha_plot_dp.html) or run `print(polsartools.halpha_plot_dp.__.doc__)`"
   ]
  },
  {
   "cell_type": "code",
   "execution_count": null,
   "id": "0e39d459-f19f-4ead-b565-f4153bc904ed",
   "metadata": {},
   "outputs": [],
   "source": [
    "hFile = c2Folder + '/Hdp.tif'\n",
    "alphaFile = c2Folder + '/alphadp.tif'\n",
    "\n",
    "pst.halpha_plot_dp(hFile,alphaFile)"
   ]
  },
  {
   "cell_type": "markdown",
   "id": "bbfbf0f4-cdee-45a4-afea-ebc2519fb9e9",
   "metadata": {},
   "source": [
    "##### 4.3. Shannon Entropy parameters (SE is the sum of contributions from intensity (SEI) and polarimetry (SEP))\n",
    "##### using **`polsartools.shannon_h_dp`** function, [click here for documentation](https://polsartools.readthedocs.io/en/latest/files/functions/dual_pol/shannon_h_dp.html) or run `print(polsartools.shannon_h_dp.__.doc__)`"
   ]
  },
  {
   "cell_type": "code",
   "execution_count": null,
   "id": "3a9cffd0-da51-4649-82b2-a6945bb1e645",
   "metadata": {},
   "outputs": [],
   "source": [
    "pst.shannon_h_dp(c2Folder,window_size = 3)"
   ]
  },
  {
   "cell_type": "markdown",
   "id": "dba17a0b-7a02-4f8f-885e-3bdf082c67df",
   "metadata": {},
   "source": [
    "##### Preview the output"
   ]
  },
  {
   "cell_type": "code",
   "execution_count": null,
   "id": "d44b8107-1944-4352-ae0d-c882be90b356",
   "metadata": {},
   "outputs": [],
   "source": [
    "\n",
    "plot_images(c2Folder + '/H_Shannon.tif',\n",
    "            c2Folder + '/HI_Shannon.tif',\n",
    "            c2Folder + '/HP_Shannon.tif',\n",
    "            lower_percentile=2, upper_percentile=98, max_cols=4)\n",
    "\n"
   ]
  },
  {
   "cell_type": "markdown",
   "id": "65a4dbbf-ee5a-4426-857e-feef2d0ba7f0",
   "metadata": {},
   "source": [
    "##### 4.4. vegetation indices, Radar vegetation index (RVI), Dual-pol Radar Vegetation Index (DpRVI)\n",
    "\n",
    "##### using **`polsartools.rvidp`** function, [click here for documentation](https://polsartools.readthedocs.io/en/latest/files/functions/dual_pol/RVI_dp.html) or run `print(polsartools.rvidp.__.doc__)`\n",
    "\n",
    "##### using **`polsartools.dprvi`** function, [click here for documentation](https://polsartools.readthedocs.io/en/latest/files/functions/dual_pol/RVI_dp.html) or run `print(polsartools.dprvi.__.doc__)`\n",
    "\n",
    "\n"
   ]
  },
  {
   "cell_type": "code",
   "execution_count": null,
   "id": "c494ea03-bb7e-4461-ace0-50a336e63769",
   "metadata": {},
   "outputs": [],
   "source": [
    "\n",
    "pst.rvidp(c2Folder)\n",
    "\n",
    "pst.dprvi(c2Folder)\n"
   ]
  },
  {
   "cell_type": "markdown",
   "id": "9cdf015c-336f-4dc7-8d7d-7f083a8c1202",
   "metadata": {},
   "source": [
    "##### Preview the output"
   ]
  },
  {
   "cell_type": "code",
   "execution_count": null,
   "id": "2328fa2e-58dc-4d3b-aace-04dc6228eac6",
   "metadata": {},
   "outputs": [],
   "source": [
    "\n",
    "\n",
    "plot_images(c2Folder + '/rvidp.tif',\n",
    "            c2Folder + '/dprvi.tif',\n",
    "            lower_percentile=2, upper_percentile=98, max_cols=4)\n",
    "\n"
   ]
  },
  {
   "cell_type": "code",
   "execution_count": null,
   "id": "3b6067d2-5fed-4323-9bbd-3300359d0f44",
   "metadata": {},
   "outputs": [],
   "source": []
  }
 ],
 "metadata": {
  "kernelspec": {
   "display_name": "pst-tab",
   "language": "python",
   "name": "pst-tab"
  },
  "language_info": {
   "codemirror_mode": {
    "name": "ipython",
    "version": 3
   },
   "file_extension": ".py",
   "mimetype": "text/x-python",
   "name": "python",
   "nbconvert_exporter": "python",
   "pygments_lexer": "ipython3",
   "version": "3.11.9"
  }
 },
 "nbformat": 4,
 "nbformat_minor": 5
}
